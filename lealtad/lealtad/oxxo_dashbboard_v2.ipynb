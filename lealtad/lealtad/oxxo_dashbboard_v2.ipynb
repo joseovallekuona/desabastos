{
 "cells": [
  {
   "cell_type": "code",
   "execution_count": 1,
   "metadata": {},
   "outputs": [],
   "source": [
    "import pandas as pd\n",
    "import numpy as np\n",
    "from pyathena import connect\n",
    "from pyathena.cursor import Cursor\n",
    "from datetime import datetime, timedelta\n",
    "import math"
   ]
  },
  {
   "cell_type": "code",
   "execution_count": null,
   "metadata": {},
   "outputs": [],
   "source": [
    "# set connection\n",
    "\n",
    "conn = connect(# add credentioals as needed\n",
    "    )"
   ]
  },
  {
   "cell_type": "code",
   "execution_count": 132,
   "metadata": {},
   "outputs": [],
   "source": [
    "# integrate and merge files"
   ]
  },
  {
   "cell_type": "code",
   "execution_count": 2,
   "metadata": {},
   "outputs": [
    {
     "name": "stdout",
     "output_type": "stream",
     "text": [
      "/Users/joseovalle/Downloads\n"
     ]
    }
   ],
   "source": [
    "import os\n",
    "print(os.getcwd())"
   ]
  },
  {
   "cell_type": "code",
   "execution_count": 3,
   "metadata": {},
   "outputs": [
    {
     "name": "stdout",
     "output_type": "stream",
     "text": [
      "Files in folder: ['df_2_3_20240715_20240811.csv', 'df_1_1_20240617_20240714.csv', 'df_2_2_20241202_20241229.csv', 'df_1_1_20240129_20240225.csv', 'df_3_4_20241007_20241103.csv', 'df_3_1_20241202_20241229.csv', 'df_3_3_20250127_20250223.csv', 'df_3_4_20240617_20240714.csv', 'df_3_3_20240812_20240908.csv', 'df_1_1_20241007_20241103.csv', 'df_1_4_20241202_20241229.csv', 'df_3_4_20240129_20240225.csv', 'df_3_2_20250324_20250420.csv', 'df_1_3_20240325_20240421.csv', 'df_0_1_20241104_20241201.csv', 'df_2_6_20240226_20240324.csv', 'df_2_6_20240909_20241006.csv', 'df_1_2_20241104_20241201.csv', 'df_1_3_20250224_20250323.csv', 'df_2_1_20250324_20250420.csv', 'df_3_3_20240101_20240128.csv', 'df_3_4_20241230_20250126.csv', 'df_2_5_20240520_20240616.csv', 'df_2_5_20240325_20240421.csv', 'df_2_3_20240422_20240519.csv', 'df_4_1_20240226_20240324.csv', 'df_4_1_20240909_20241006.csv', 'df_2_5_20250224_20250323.csv', 'df_3_3_20250421_20250518.csv', 'df_2_4_20241104_20241201.csv', 'df_1_1_20241230_20250126.csv', 'df_1_3_20240520_20240616.csv', 'df_3_1_20250127_20250223.csv', 'df_2_2_20240812_20240908.csv', 'df_3_1_20240812_20240908.csv', 'df_2_5_20240617_20240714.csv', 'df_2_2_20250127_20250223.csv', 'df_2_5_20240129_20240225.csv', 'df_1_3_20241007_20241103.csv', '.DS_Store', 'df_1_4_20240812_20240908.csv', 'df_3_2_20240715_20240811.csv', 'df_1_4_20250127_20250223.csv', 'df_1_3_20240617_20240714.csv', 'df_2_1_20240715_20240811.csv', 'df_2_5_20241007_20241103.csv', 'df_1_3_20240129_20240225.csv', 'df_3_3_20241202_20241229.csv', 'df_3_2_20240422_20240519.csv', 'df_0_1_20240226_20240324.csv', 'df_0_1_20240909_20241006.csv', 'df_2_2_20250421_20250518.csv', 'df_3_4_20250224_20250323.csv', 'df_3_4_20240325_20240421.csv', 'df_1_2_20240226_20240324.csv', 'df_1_2_20240909_20241006.csv', 'df_3_1_20250421_20250518.csv', 'df_2_6_20241104_20241201.csv', 'df_2_1_20240422_20240519.csv', 'df_1_3_20241230_20250126.csv', 'df_1_4_20240101_20240128.csv', 'df_1_1_20240520_20240616.csv', 'df_1_1_20240325_20240421.csv', 'df_1_4_20250421_20250518.csv', 'df_4_1_20241104_20241201.csv', 'df_2_3_20250324_20250420.csv', 'df_1_1_20250224_20250323.csv', 'df_2_4_20240226_20240324.csv', 'df_2_4_20240909_20241006.csv', 'df_3_1_20240101_20240128.csv', 'df_2_5_20241230_20250126.csv', 'df_3_4_20240520_20240616.csv', 'df_2_2_20240101_20240128.csv', 'df_2_5_20250324_20250420.csv', 'df_1_1_20240422_20240519.csv', 'df_0_1_20250421_20250518.csv', 'df_2_2_20240226_20240324.csv', 'df_2_2_20240909_20241006.csv', 'df_1_2_20250421_20250518.csv', 'df_3_1_20240226_20240324.csv', 'df_3_1_20240909_20241006.csv', 'df_2_1_20240520_20240616.csv', 'df_2_4_20240101_20240128.csv', 'df_2_3_20241230_20250126.csv', 'df_3_2_20240520_20240616.csv', 'df_2_1_20250224_20250323.csv', 'df_3_2_20240325_20240421.csv', 'df_1_4_20240226_20240324.csv', 'df_1_4_20240909_20241006.csv', 'df_1_3_20250324_20250420.csv', 'df_3_4_20240422_20240519.csv', 'df_3_2_20250224_20250323.csv', 'df_3_3_20241104_20241201.csv', 'df_2_4_20250421_20250518.csv', 'df_2_1_20240325_20240421.csv', 'df_1_2_20240101_20240128.csv', 'df_0_1_20240101_20240128.csv', 'df_1_2_20250127_20250223.csv', 'df_0_1_20240812_20240908.csv', 'df_3_4_20240715_20240811.csv', 'df_1_2_20240812_20240908.csv', 'df_0_1_20250127_20250223.csv', 'df_2_3_20241007_20241103.csv', 'df_2_6_20241202_20241229.csv', 'df_1_1_20240715_20240811.csv', 'df_2_4_20250127_20250223.csv', 'df_2_3_20240617_20240714.csv', 'df_2_4_20240812_20240908.csv', 'df_2_3_20240129_20240225.csv', 'df_4_1_20241202_20241229.csv', 'df_1_1_20250324_20250420.csv', 'df_2_5_20240422_20240519.csv', 'df_2_2_20241104_20241201.csv', 'df_2_3_20250224_20250323.csv', 'df_3_1_20241104_20241201.csv', 'df_2_3_20240325_20240421.csv', 'df_2_6_20250421_20250518.csv', 'df_4_1_20240101_20240128.csv', 'df_1_4_20241104_20241201.csv', 'df_1_3_20240422_20240519.csv', 'df_3_4_20250324_20250420.csv', 'df_4_1_20250421_20250518.csv', 'df_3_3_20240226_20240324.csv', 'df_3_3_20240909_20241006.csv', 'df_2_6_20240101_20240128.csv', 'df_3_2_20241230_20250126.csv', 'df_2_3_20240520_20240616.csv', 'df_2_1_20241230_20250126.csv', 'df_2_1_20240617_20240714.csv', 'df_2_6_20250127_20250223.csv', 'df_1_3_20240715_20240811.csv', 'df_2_6_20240812_20240908.csv', 'df_3_2_20240617_20240714.csv', 'df_0_1_20241202_20241229.csv', 'df_3_2_20240129_20240225.csv', 'df_1_2_20241202_20241229.csv', 'df_2_1_20240129_20240225.csv', 'df_2_5_20240715_20240811.csv', 'df_4_1_20250127_20250223.csv', 'df_4_1_20240812_20240908.csv', 'df_3_2_20241007_20241103.csv', 'df_2_4_20241202_20241229.csv', 'df_2_1_20241007_20241103.csv', 'df_3_2_20240101_20240128.csv', 'df_2_6_20241230_20250126.csv', 'df_2_1_20240101_20240128.csv', 'df_2_4_20240520_20240616.csv', 'df_3_3_20250324_20250420.csv', 'df_0_1_20250224_20250323.csv', 'df_3_4_20240226_20240324.csv', 'df_1_2_20240325_20240421.csv', 'df_3_4_20240909_20241006.csv', 'df_1_2_20250224_20250323.csv', 'df_1_3_20241104_20241201.csv', 'df_0_1_20240325_20240421.csv', 'df_1_4_20240422_20240519.csv', 'df_4_1_20241230_20250126.csv', 'df_0_1_20240520_20240616.csv', 'df_1_2_20240520_20240616.csv', 'df_2_1_20250421_20250518.csv', 'df_2_4_20240325_20240421.csv', 'df_3_1_20240422_20240519.csv', 'df_2_2_20240422_20240519.csv', 'df_2_5_20241104_20241201.csv', 'df_3_2_20250421_20250518.csv', 'df_1_1_20240226_20240324.csv', 'df_1_1_20240909_20241006.csv', 'df_2_4_20250224_20250323.csv', 'df_2_3_20241202_20241229.csv', 'df_4_1_20240129_20240225.csv', 'df_2_6_20241007_20241103.csv', 'df_3_1_20240715_20240811.csv', 'df_2_2_20240715_20240811.csv', 'df_4_1_20240617_20240714.csv', 'df_4_1_20241007_20241103.csv', 'df_2_6_20240129_20240225.csv', 'df_2_1_20240812_20240908.csv', 'df_3_2_20250127_20250223.csv', 'df_2_6_20240617_20240714.csv', 'df_2_1_20250127_20250223.csv', 'df_1_4_20240715_20240811.csv', 'df_3_2_20240812_20240908.csv', 'df_1_2_20241230_20250126.csv', 'df_4_1_20240520_20240616.csv', 'df_0_1_20241230_20250126.csv', 'df_3_3_20240422_20240519.csv', 'df_3_4_20241104_20241201.csv', 'df_2_6_20240325_20240421.csv', 'df_2_3_20250421_20250518.csv', 'df_2_6_20250224_20250323.csv', 'df_1_3_20240226_20240324.csv', 'df_1_3_20240909_20241006.csv', 'df_1_4_20250324_20250420.csv', 'df_2_4_20241230_20250126.csv', 'df_2_6_20240520_20240616.csv', 'df_2_3_20240101_20240128.csv', 'df_4_1_20240325_20240421.csv', 'df_3_1_20250324_20250420.csv', 'df_2_2_20250324_20250420.csv', 'df_4_1_20250224_20250323.csv', 'df_1_1_20241104_20241201.csv', 'df_2_5_20240226_20240324.csv', 'df_2_5_20240909_20241006.csv', 'df_2_4_20240129_20240225.csv', 'df_1_2_20241007_20241103.csv', 'df_0_1_20241007_20241103.csv', 'df_2_3_20240812_20240908.csv', 'df_2_3_20250127_20250223.csv', 'df_2_4_20240617_20240714.csv', 'df_2_4_20241007_20241103.csv', 'df_2_1_20241202_20241229.csv', 'df_1_2_20240129_20240225.csv', 'df_3_2_20241202_20241229.csv', 'df_0_1_20240129_20240225.csv', 'df_3_3_20240715_20240811.csv', 'df_0_1_20240617_20240714.csv', 'df_1_2_20240617_20240714.csv', 'df_3_4_20241202_20241229.csv', 'df_3_1_20241007_20241103.csv', 'df_2_2_20241007_20241103.csv', 'df_1_4_20240129_20240225.csv', 'df_1_3_20250127_20250223.csv', 'df_1_4_20240617_20240714.csv', 'df_2_6_20240715_20240811.csv', 'df_1_3_20240812_20240908.csv', 'df_3_1_20240129_20240225.csv', 'df_1_1_20241202_20241229.csv', 'df_2_2_20240129_20240225.csv', 'df_1_4_20241007_20241103.csv', 'df_2_2_20240617_20240714.csv', 'df_4_1_20240715_20240811.csv', 'df_2_5_20250127_20250223.csv', 'df_3_1_20240617_20240714.csv', 'df_2_5_20240812_20240908.csv', 'df_2_5_20240101_20240128.csv', 'df_3_1_20241230_20250126.csv', 'df_2_2_20241230_20250126.csv', 'df_3_3_20240520_20240616.csv', 'df_2_4_20250324_20250420.csv', 'df_4_1_20240422_20240519.csv', 'df_2_3_20240226_20240324.csv', 'df_2_3_20240909_20241006.csv', 'df_1_3_20250421_20250518.csv', 'df_1_3_20240101_20240128.csv', 'df_1_4_20241230_20250126.csv', 'df_3_3_20240325_20240421.csv', 'df_2_1_20241104_20241201.csv', 'df_1_2_20250324_20250420.csv', 'df_2_6_20240422_20240519.csv', 'df_0_1_20250324_20250420.csv', 'df_2_5_20250421_20250518.csv', 'df_3_2_20241104_20241201.csv', 'df_3_3_20250224_20250323.csv', 'df_3_3_20240129_20240225.csv', 'df_1_3_20241202_20241229.csv', 'df_3_4_20240812_20240908.csv', 'df_1_2_20240715_20240811.csv', 'df_0_1_20240715_20240811.csv', 'df_3_4_20250127_20250223.csv', 'df_3_3_20240617_20240714.csv', 'df_3_3_20241007_20241103.csv', 'df_2_5_20241202_20241229.csv', 'df_2_4_20240715_20240811.csv', 'df_1_1_20250127_20250223.csv', 'df_1_1_20240812_20240908.csv', 'df_1_4_20240520_20240616.csv', 'df_1_1_20240101_20240128.csv', 'df_2_4_20240422_20240519.csv', 'df_2_2_20250224_20250323.csv', 'df_3_1_20240325_20240421.csv', 'df_4_1_20250324_20250420.csv', 'df_3_4_20250421_20250518.csv', 'df_2_3_20241104_20241201.csv', 'df_3_1_20250224_20250323.csv', 'df_2_2_20240325_20240421.csv', 'df_3_3_20241230_20250126.csv', 'df_2_2_20240520_20240616.csv', 'df_3_1_20240520_20240616.csv', 'df_3_4_20240101_20240128.csv', 'df_2_1_20240226_20240324.csv', 'df_2_1_20240909_20241006.csv', 'df_1_4_20250224_20250323.csv', 'df_2_6_20250324_20250420.csv', 'df_1_2_20240422_20240519.csv', 'df_0_1_20240422_20240519.csv', 'df_3_2_20240226_20240324.csv', 'df_1_4_20240325_20240421.csv', 'df_3_2_20240909_20241006.csv', 'df_1_1_20250421_20250518.csv']\n"
     ]
    }
   ],
   "source": [
    "folder_path = '/Users/joseovalle/Downloads/dfs'\n",
    "files = [f for f in os.listdir(folder_path) if os.path.isfile(os.path.join(folder_path, f))]\n",
    "\n",
    "print(\"Files in folder:\", files)\n",
    "\n"
   ]
  },
  {
   "cell_type": "code",
   "execution_count": 4,
   "metadata": {},
   "outputs": [
    {
     "name": "stdout",
     "output_type": "stream",
     "text": [
      "/Users/joseovalle/Downloads/dfs\n"
     ]
    }
   ],
   "source": [
    "new_path = '/Users/joseovalle/Downloads/dfs'\n",
    "os.chdir(new_path)\n",
    "print(os.getcwd())"
   ]
  },
  {
   "cell_type": "code",
   "execution_count": 5,
   "metadata": {},
   "outputs": [
    {
     "name": "stderr",
     "output_type": "stream",
     "text": [
      "/var/folders/rl/fg4zs7t924s2t0ppwnsvmkwh0000gn/T/ipykernel_86836/3053879099.py:7: FutureWarning: The behavior of DataFrame concatenation with empty or all-NA entries is deprecated. In a future version, this will no longer exclude empty or all-NA columns when determining the result dtypes. To retain the old behavior, exclude the relevant entries before the concat operation.\n",
      "  oxxo_dfs = pd.concat(dictionary_dfs.values(), ignore_index= True)\n"
     ]
    }
   ],
   "source": [
    "dictionary_dfs = {}\n",
    "for file in files:\n",
    "    df = pd.read_csv(file,encoding='latin1')\n",
    "    dictionary_dfs[file] = df\n",
    "\n",
    "\n",
    "oxxo_dfs = pd.concat(dictionary_dfs.values(), ignore_index= True)\n",
    "columns_to_replace = ['nombre_supergrupo','nombre_supercategoria','marca','marca_proveedor']\n",
    "oxxo_dfs[columns_to_replace] = oxxo_dfs[columns_to_replace].replace({'All': 'Todas'})\n"
   ]
  },
  {
   "cell_type": "code",
   "execution_count": 6,
   "metadata": {},
   "outputs": [
    {
     "data": {
      "text/html": [
       "<div>\n",
       "<style scoped>\n",
       "    .dataframe tbody tr th:only-of-type {\n",
       "        vertical-align: middle;\n",
       "    }\n",
       "\n",
       "    .dataframe tbody tr th {\n",
       "        vertical-align: top;\n",
       "    }\n",
       "\n",
       "    .dataframe thead th {\n",
       "        text-align: right;\n",
       "    }\n",
       "</style>\n",
       "<table border=\"1\" class=\"dataframe\">\n",
       "  <thead>\n",
       "    <tr style=\"text-align: right;\">\n",
       "      <th></th>\n",
       "      <th>nombre_supergrupo</th>\n",
       "      <th>nombre_supercategoria</th>\n",
       "      <th>marca</th>\n",
       "      <th>marca_proveedor</th>\n",
       "      <th>week</th>\n",
       "      <th>tickets</th>\n",
       "      <th>venta_tmt</th>\n",
       "      <th>articulos</th>\n",
       "      <th>ticket_promedio</th>\n",
       "      <th>Unnamed: 0</th>\n",
       "    </tr>\n",
       "  </thead>\n",
       "  <tbody>\n",
       "    <tr>\n",
       "      <th>0</th>\n",
       "      <td>Botanas</td>\n",
       "      <td>Todos</td>\n",
       "      <td>Todos</td>\n",
       "      <td>Barcel</td>\n",
       "      <td>2024-07-22</td>\n",
       "      <td>1783315.0</td>\n",
       "      <td>7.027072e+07</td>\n",
       "      <td>2014652.0</td>\n",
       "      <td>39.404548</td>\n",
       "      <td>NaN</td>\n",
       "    </tr>\n",
       "    <tr>\n",
       "      <th>1</th>\n",
       "      <td>Hielo</td>\n",
       "      <td>Todos</td>\n",
       "      <td>Todos</td>\n",
       "      <td>Art</td>\n",
       "      <td>2024-08-05</td>\n",
       "      <td>44905.0</td>\n",
       "      <td>1.730700e+06</td>\n",
       "      <td>44952.0</td>\n",
       "      <td>38.541364</td>\n",
       "      <td>NaN</td>\n",
       "    </tr>\n",
       "    <tr>\n",
       "      <th>2</th>\n",
       "      <td>Pan Tost Y Tortillas</td>\n",
       "      <td>Todos</td>\n",
       "      <td>Todos</td>\n",
       "      <td>Ramon Santos</td>\n",
       "      <td>2024-07-15</td>\n",
       "      <td>49327.0</td>\n",
       "      <td>1.656967e+06</td>\n",
       "      <td>49483.0</td>\n",
       "      <td>33.591473</td>\n",
       "      <td>NaN</td>\n",
       "    </tr>\n",
       "    <tr>\n",
       "      <th>3</th>\n",
       "      <td>Fast Food Alimentos</td>\n",
       "      <td>Todos</td>\n",
       "      <td>Todos</td>\n",
       "      <td>Danone</td>\n",
       "      <td>2024-07-15</td>\n",
       "      <td>344278.0</td>\n",
       "      <td>7.560548e+06</td>\n",
       "      <td>433453.0</td>\n",
       "      <td>21.960590</td>\n",
       "      <td>NaN</td>\n",
       "    </tr>\n",
       "    <tr>\n",
       "      <th>4</th>\n",
       "      <td>Mercancias Generales</td>\n",
       "      <td>Todos</td>\n",
       "      <td>Todos</td>\n",
       "      <td>Sin Marca Proveedor Asignada</td>\n",
       "      <td>2024-07-22</td>\n",
       "      <td>22477.0</td>\n",
       "      <td>9.289703e+05</td>\n",
       "      <td>22550.0</td>\n",
       "      <td>41.329818</td>\n",
       "      <td>NaN</td>\n",
       "    </tr>\n",
       "  </tbody>\n",
       "</table>\n",
       "</div>"
      ],
      "text/plain": [
       "      nombre_supergrupo nombre_supercategoria  marca  \\\n",
       "0               Botanas                 Todos  Todos   \n",
       "1                 Hielo                 Todos  Todos   \n",
       "2  Pan Tost Y Tortillas                 Todos  Todos   \n",
       "3   Fast Food Alimentos                 Todos  Todos   \n",
       "4  Mercancias Generales                 Todos  Todos   \n",
       "\n",
       "                marca_proveedor        week    tickets     venta_tmt  \\\n",
       "0                        Barcel  2024-07-22  1783315.0  7.027072e+07   \n",
       "1                           Art  2024-08-05    44905.0  1.730700e+06   \n",
       "2                  Ramon Santos  2024-07-15    49327.0  1.656967e+06   \n",
       "3                        Danone  2024-07-15   344278.0  7.560548e+06   \n",
       "4  Sin Marca Proveedor Asignada  2024-07-22    22477.0  9.289703e+05   \n",
       "\n",
       "   articulos  ticket_promedio Unnamed: 0  \n",
       "0  2014652.0        39.404548        NaN  \n",
       "1    44952.0        38.541364        NaN  \n",
       "2    49483.0        33.591473        NaN  \n",
       "3   433453.0        21.960590        NaN  \n",
       "4    22550.0        41.329818        NaN  "
      ]
     },
     "execution_count": 6,
     "metadata": {},
     "output_type": "execute_result"
    }
   ],
   "source": [
    "oxxo_dfs.head()"
   ]
  },
  {
   "cell_type": "code",
   "execution_count": null,
   "metadata": {},
   "outputs": [],
   "source": [
    "# oxxo_dfs.drop(columns = ['Unnamed: 0'], inplace = True)"
   ]
  },
  {
   "cell_type": "code",
   "execution_count": 8,
   "metadata": {},
   "outputs": [
    {
     "data": {
      "text/html": [
       "<div>\n",
       "<style scoped>\n",
       "    .dataframe tbody tr th:only-of-type {\n",
       "        vertical-align: middle;\n",
       "    }\n",
       "\n",
       "    .dataframe tbody tr th {\n",
       "        vertical-align: top;\n",
       "    }\n",
       "\n",
       "    .dataframe thead th {\n",
       "        text-align: right;\n",
       "    }\n",
       "</style>\n",
       "<table border=\"1\" class=\"dataframe\">\n",
       "  <thead>\n",
       "    <tr style=\"text-align: right;\">\n",
       "      <th></th>\n",
       "      <th>nombre_supergrupo</th>\n",
       "      <th>nombre_supercategoria</th>\n",
       "      <th>marca</th>\n",
       "      <th>marca_proveedor</th>\n",
       "      <th>week</th>\n",
       "      <th>tickets</th>\n",
       "      <th>venta_tmt</th>\n",
       "      <th>articulos</th>\n",
       "      <th>ticket_promedio</th>\n",
       "    </tr>\n",
       "  </thead>\n",
       "  <tbody>\n",
       "    <tr>\n",
       "      <th>0</th>\n",
       "      <td>Botanas</td>\n",
       "      <td>Todos</td>\n",
       "      <td>Todos</td>\n",
       "      <td>Barcel</td>\n",
       "      <td>2024-07-22</td>\n",
       "      <td>1783315.0</td>\n",
       "      <td>7.027072e+07</td>\n",
       "      <td>2014652.0</td>\n",
       "      <td>39.404548</td>\n",
       "    </tr>\n",
       "    <tr>\n",
       "      <th>1</th>\n",
       "      <td>Hielo</td>\n",
       "      <td>Todos</td>\n",
       "      <td>Todos</td>\n",
       "      <td>Art</td>\n",
       "      <td>2024-08-05</td>\n",
       "      <td>44905.0</td>\n",
       "      <td>1.730700e+06</td>\n",
       "      <td>44952.0</td>\n",
       "      <td>38.541364</td>\n",
       "    </tr>\n",
       "    <tr>\n",
       "      <th>2</th>\n",
       "      <td>Pan Tost Y Tortillas</td>\n",
       "      <td>Todos</td>\n",
       "      <td>Todos</td>\n",
       "      <td>Ramon Santos</td>\n",
       "      <td>2024-07-15</td>\n",
       "      <td>49327.0</td>\n",
       "      <td>1.656967e+06</td>\n",
       "      <td>49483.0</td>\n",
       "      <td>33.591473</td>\n",
       "    </tr>\n",
       "    <tr>\n",
       "      <th>3</th>\n",
       "      <td>Fast Food Alimentos</td>\n",
       "      <td>Todos</td>\n",
       "      <td>Todos</td>\n",
       "      <td>Danone</td>\n",
       "      <td>2024-07-15</td>\n",
       "      <td>344278.0</td>\n",
       "      <td>7.560548e+06</td>\n",
       "      <td>433453.0</td>\n",
       "      <td>21.960590</td>\n",
       "    </tr>\n",
       "    <tr>\n",
       "      <th>4</th>\n",
       "      <td>Mercancias Generales</td>\n",
       "      <td>Todos</td>\n",
       "      <td>Todos</td>\n",
       "      <td>Sin Marca Proveedor Asignada</td>\n",
       "      <td>2024-07-22</td>\n",
       "      <td>22477.0</td>\n",
       "      <td>9.289703e+05</td>\n",
       "      <td>22550.0</td>\n",
       "      <td>41.329818</td>\n",
       "    </tr>\n",
       "  </tbody>\n",
       "</table>\n",
       "</div>"
      ],
      "text/plain": [
       "      nombre_supergrupo nombre_supercategoria  marca  \\\n",
       "0               Botanas                 Todos  Todos   \n",
       "1                 Hielo                 Todos  Todos   \n",
       "2  Pan Tost Y Tortillas                 Todos  Todos   \n",
       "3   Fast Food Alimentos                 Todos  Todos   \n",
       "4  Mercancias Generales                 Todos  Todos   \n",
       "\n",
       "                marca_proveedor        week    tickets     venta_tmt  \\\n",
       "0                        Barcel  2024-07-22  1783315.0  7.027072e+07   \n",
       "1                           Art  2024-08-05    44905.0  1.730700e+06   \n",
       "2                  Ramon Santos  2024-07-15    49327.0  1.656967e+06   \n",
       "3                        Danone  2024-07-15   344278.0  7.560548e+06   \n",
       "4  Sin Marca Proveedor Asignada  2024-07-22    22477.0  9.289703e+05   \n",
       "\n",
       "   articulos  ticket_promedio  \n",
       "0  2014652.0        39.404548  \n",
       "1    44952.0        38.541364  \n",
       "2    49483.0        33.591473  \n",
       "3   433453.0        21.960590  \n",
       "4    22550.0        41.329818  "
      ]
     },
     "execution_count": 8,
     "metadata": {},
     "output_type": "execute_result"
    }
   ],
   "source": [
    "oxxo_dfs.head()"
   ]
  },
  {
   "cell_type": "code",
   "execution_count": 9,
   "metadata": {},
   "outputs": [],
   "source": [
    "oxxo_dfs.to_csv('/Users/joseovalle/Downloads/merged_tickets_df.csv')"
   ]
  },
  {
   "cell_type": "code",
   "execution_count": 10,
   "metadata": {},
   "outputs": [
    {
     "data": {
      "text/plain": [
       "2770997"
      ]
     },
     "execution_count": 10,
     "metadata": {},
     "output_type": "execute_result"
    }
   ],
   "source": [
    "len(oxxo_dfs)"
   ]
  },
  {
   "cell_type": "code",
   "execution_count": 11,
   "metadata": {},
   "outputs": [
    {
     "name": "stdout",
     "output_type": "stream",
     "text": [
      "<class 'pandas.core.frame.DataFrame'>\n",
      "RangeIndex: 2770997 entries, 0 to 2770996\n",
      "Data columns (total 9 columns):\n",
      " #   Column                 Dtype         \n",
      "---  ------                 -----         \n",
      " 0   nombre_supergrupo      object        \n",
      " 1   nombre_supercategoria  object        \n",
      " 2   marca                  object        \n",
      " 3   marca_proveedor        object        \n",
      " 4   week                   datetime64[ns]\n",
      " 5   tickets                float64       \n",
      " 6   venta_tmt              float64       \n",
      " 7   articulos              float64       \n",
      " 8   ticket_promedio        float64       \n",
      "dtypes: datetime64[ns](1), float64(4), object(4)\n",
      "memory usage: 190.3+ MB\n"
     ]
    }
   ],
   "source": [
    "oxxo_dfs['week'] = pd.to_datetime(oxxo_dfs['week'])\n",
    "oxxo_dfs.info()"
   ]
  },
  {
   "cell_type": "code",
   "execution_count": 141,
   "metadata": {},
   "outputs": [],
   "source": [
    "# oxxo_dfs.drop(columns = ['Unnamed: 0'], inplace = True)"
   ]
  },
  {
   "cell_type": "code",
   "execution_count": 142,
   "metadata": {},
   "outputs": [
    {
     "data": {
      "text/html": [
       "<div>\n",
       "<style scoped>\n",
       "    .dataframe tbody tr th:only-of-type {\n",
       "        vertical-align: middle;\n",
       "    }\n",
       "\n",
       "    .dataframe tbody tr th {\n",
       "        vertical-align: top;\n",
       "    }\n",
       "\n",
       "    .dataframe thead th {\n",
       "        text-align: right;\n",
       "    }\n",
       "</style>\n",
       "<table border=\"1\" class=\"dataframe\">\n",
       "  <thead>\n",
       "    <tr style=\"text-align: right;\">\n",
       "      <th></th>\n",
       "      <th>nombre_supergrupo</th>\n",
       "      <th>nombre_supercategoria</th>\n",
       "      <th>marca</th>\n",
       "      <th>marca_proveedor</th>\n",
       "      <th>week</th>\n",
       "      <th>tickets</th>\n",
       "      <th>venta_tmt</th>\n",
       "      <th>articulos</th>\n",
       "      <th>ticket_promedio</th>\n",
       "      <th>Unnamed: 0</th>\n",
       "    </tr>\n",
       "  </thead>\n",
       "  <tbody>\n",
       "    <tr>\n",
       "      <th>0</th>\n",
       "      <td>Cerveza</td>\n",
       "      <td>Todos</td>\n",
       "      <td>Todos</td>\n",
       "      <td>Cerveceria Cuautemoc Moctezuma</td>\n",
       "      <td>2024-07-22</td>\n",
       "      <td>4511558.0</td>\n",
       "      <td>4.149111e+08</td>\n",
       "      <td>4919235.0</td>\n",
       "      <td>91.966264</td>\n",
       "      <td>NaN</td>\n",
       "    </tr>\n",
       "    <tr>\n",
       "      <th>1</th>\n",
       "      <td>Fast Food Bebidas</td>\n",
       "      <td>Todos</td>\n",
       "      <td>Todos</td>\n",
       "      <td>Burrisabor</td>\n",
       "      <td>2024-08-05</td>\n",
       "      <td>1986.0</td>\n",
       "      <td>1.417095e+05</td>\n",
       "      <td>2105.0</td>\n",
       "      <td>71.354239</td>\n",
       "      <td>NaN</td>\n",
       "    </tr>\n",
       "    <tr>\n",
       "      <th>2</th>\n",
       "      <td>Higiene Hogar</td>\n",
       "      <td>Todos</td>\n",
       "      <td>Todos</td>\n",
       "      <td>Alen del Norte</td>\n",
       "      <td>2024-07-22</td>\n",
       "      <td>436567.0</td>\n",
       "      <td>1.069469e+07</td>\n",
       "      <td>512691.0</td>\n",
       "      <td>24.497243</td>\n",
       "      <td>NaN</td>\n",
       "    </tr>\n",
       "    <tr>\n",
       "      <th>3</th>\n",
       "      <td>Fast Food Alimentos</td>\n",
       "      <td>Todos</td>\n",
       "      <td>Todos</td>\n",
       "      <td>Nissin</td>\n",
       "      <td>2024-08-05</td>\n",
       "      <td>319137.0</td>\n",
       "      <td>9.881409e+06</td>\n",
       "      <td>368232.0</td>\n",
       "      <td>30.962906</td>\n",
       "      <td>NaN</td>\n",
       "    </tr>\n",
       "    <tr>\n",
       "      <th>4</th>\n",
       "      <td>Vinos Y Licores</td>\n",
       "      <td>Todos</td>\n",
       "      <td>Todos</td>\n",
       "      <td>PEDRO DOMECQ</td>\n",
       "      <td>2024-08-05</td>\n",
       "      <td>78082.0</td>\n",
       "      <td>3.168081e+06</td>\n",
       "      <td>78435.0</td>\n",
       "      <td>40.573774</td>\n",
       "      <td>NaN</td>\n",
       "    </tr>\n",
       "  </tbody>\n",
       "</table>\n",
       "</div>"
      ],
      "text/plain": [
       "     nombre_supergrupo nombre_supercategoria  marca  \\\n",
       "0              Cerveza                 Todos  Todos   \n",
       "1    Fast Food Bebidas                 Todos  Todos   \n",
       "2        Higiene Hogar                 Todos  Todos   \n",
       "3  Fast Food Alimentos                 Todos  Todos   \n",
       "4      Vinos Y Licores                 Todos  Todos   \n",
       "\n",
       "                  marca_proveedor       week    tickets     venta_tmt  \\\n",
       "0  Cerveceria Cuautemoc Moctezuma 2024-07-22  4511558.0  4.149111e+08   \n",
       "1                      Burrisabor 2024-08-05     1986.0  1.417095e+05   \n",
       "2                  Alen del Norte 2024-07-22   436567.0  1.069469e+07   \n",
       "3                          Nissin 2024-08-05   319137.0  9.881409e+06   \n",
       "4                    PEDRO DOMECQ 2024-08-05    78082.0  3.168081e+06   \n",
       "\n",
       "   articulos  ticket_promedio Unnamed: 0  \n",
       "0  4919235.0        91.966264        NaN  \n",
       "1     2105.0        71.354239        NaN  \n",
       "2   512691.0        24.497243        NaN  \n",
       "3   368232.0        30.962906        NaN  \n",
       "4    78435.0        40.573774        NaN  "
      ]
     },
     "execution_count": 142,
     "metadata": {},
     "output_type": "execute_result"
    }
   ],
   "source": [
    "oxxo_dfs.head()"
   ]
  },
  {
   "cell_type": "code",
   "execution_count": 143,
   "metadata": {},
   "outputs": [],
   "source": [
    "oxxo_dfs.loc[(oxxo_dfs['nombre_supergrupo'] == 'Todos') &(oxxo_dfs['nombre_supercategoria'] == 'Todos') &(oxxo_dfs['marca'] == 'Todos') &(oxxo_dfs['marca_proveedor'] == 'Todos') ].to_csv('/Users/joseovalle/Downloads/overall_tickets.csv')"
   ]
  }
 ],
 "metadata": {
  "kernelspec": {
   "display_name": "Python 3",
   "language": "python",
   "name": "python3"
  },
  "language_info": {
   "codemirror_mode": {
    "name": "ipython",
    "version": 3
   },
   "file_extension": ".py",
   "mimetype": "text/x-python",
   "name": "python",
   "nbconvert_exporter": "python",
   "pygments_lexer": "ipython3",
   "version": "3.12.4"
  }
 },
 "nbformat": 4,
 "nbformat_minor": 2
}
